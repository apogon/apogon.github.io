{
  "cells": [
    {
      "cell_type": "markdown",
      "metadata": {
        "id": "view-in-github",
        "colab_type": "text"
      },
      "source": [
        "<a href=\"https://colab.research.google.com/github/apogon/apogon.github.io/blob/main/CIP_RL.ipynb\" target=\"_parent\"><img src=\"https://colab.research.google.com/assets/colab-badge.svg\" alt=\"Open In Colab\"/></a>"
      ]
    },
    {
      "cell_type": "markdown",
      "metadata": {
        "id": "SWSgts1FvLZc"
      },
      "source": [
        "**Estados**\n",
        "\n"
      ]
    },
    {
      "cell_type": "code",
      "execution_count": null,
      "metadata": {
        "id": "K_VEhNR0xvK0"
      },
      "outputs": [],
      "source": [
        "# Importar las librerías\n",
        "import numpy as np\n",
        "import math\n",
        "import random\n",
        "\n",
        "T = 1\n",
        "A = 0.374\n",
        "\n",
        "def htanque(h_k, Qe_k, Qs_k):\n",
        "  return T/A*(Qe_k - Qs_k) + h_k\n",
        "\n",
        "def Qo(Qo_k, Qi_k, tau, Qteta):\n",
        "  return Qo_k + (T/tau)*(Qi_k-Qteta-Qo_k)\n"
      ]
    },
    {
      "cell_type": "markdown",
      "source": [
        "**Espacio de Estados**"
      ],
      "metadata": {
        "id": "lTS2QgPDcWiH"
      }
    },
    {
      "cell_type": "code",
      "source": [
        "import numpy as np\n",
        "estados = []\n",
        "Y=0.0\n",
        "for k in range(96):\n",
        "  Y=round(Y,2)\n",
        "  estados.append(Y)\n",
        "  Y=Y+0.02\n",
        "print(estados)"
      ],
      "metadata": {
        "colab": {
          "base_uri": "https://localhost:8080/"
        },
        "id": "FoG4MtMpSdiA",
        "outputId": "0f99bd95-24af-4b6c-fab1-fb7f154c51dd"
      },
      "execution_count": null,
      "outputs": [
        {
          "output_type": "stream",
          "name": "stdout",
          "text": [
            "[0.0, 0.02, 0.04, 0.06, 0.08, 0.1, 0.12, 0.14, 0.16, 0.18, 0.2, 0.22, 0.24, 0.26, 0.28, 0.3, 0.32, 0.34, 0.36, 0.38, 0.4, 0.42, 0.44, 0.46, 0.48, 0.5, 0.52, 0.54, 0.56, 0.58, 0.6, 0.62, 0.64, 0.66, 0.68, 0.7, 0.72, 0.74, 0.76, 0.78, 0.8, 0.82, 0.84, 0.86, 0.88, 0.9, 0.92, 0.94, 0.96, 0.98, 1.0, 1.02, 1.04, 1.06, 1.08, 1.1, 1.12, 1.14, 1.16, 1.18, 1.2, 1.22, 1.24, 1.26, 1.28, 1.3, 1.32, 1.34, 1.36, 1.38, 1.4, 1.42, 1.44, 1.46, 1.48, 1.5, 1.52, 1.54, 1.56, 1.58, 1.6, 1.62, 1.64, 1.66, 1.68, 1.7, 1.72, 1.74, 1.76, 1.78, 1.8, 1.82, 1.84, 1.86, 1.88, 1.9]\n"
          ]
        }
      ]
    },
    {
      "cell_type": "markdown",
      "source": [
        "**Espacio de Acciones**\n",
        "\n",
        "El rango de operación estimado es entre el 80% y 100%"
      ],
      "metadata": {
        "id": "MKDusC9ccVNT"
      }
    },
    {
      "cell_type": "code",
      "source": [
        "#acciones = []\n",
        "Q1 = []\n",
        "Q2 = []\n",
        "DeltaT = []\n",
        "Q = 80.0\n",
        "T1 = 1\n",
        "for k in range(21):\n",
        "  Q = round(Q,1)\n",
        "  Q1.append(Q)\n",
        "  Q2.append(Q)\n",
        "  Q = Q+1\n",
        "\n",
        "for k in range(20):\n",
        "  DeltaT.append(T1)\n",
        "  T1 = T1+1\n",
        "print(Q1)\n",
        "print(DeltaT)\n"
      ],
      "metadata": {
        "colab": {
          "base_uri": "https://localhost:8080/"
        },
        "id": "D-uECHFyFrb8",
        "outputId": "48d5710b-dd55-46ca-9c46-9e246e14ebc7"
      },
      "execution_count": null,
      "outputs": [
        {
          "output_type": "stream",
          "name": "stdout",
          "text": [
            "[80.0, 81.0, 82.0, 83.0, 84.0, 85.0, 86.0, 87.0, 88.0, 89.0, 90.0, 91.0, 92.0, 93.0, 94.0, 95.0, 96.0, 97.0, 98.0, 99.0, 100.0]\n",
            "[1, 2, 3, 4, 5, 6, 7, 8, 9, 10, 11, 12, 13, 14, 15, 16, 17, 18, 19, 20]\n"
          ]
        }
      ]
    },
    {
      "cell_type": "markdown",
      "source": [],
      "metadata": {
        "id": "5z70sTmkLNEk"
      }
    },
    {
      "cell_type": "markdown",
      "source": [
        "**Recompensas**"
      ],
      "metadata": {
        "id": "7SgqSonFL_RF"
      }
    },
    {
      "cell_type": "code",
      "execution_count": null,
      "metadata": {
        "colab": {
          "base_uri": "https://localhost:8080/",
          "height": 465
        },
        "id": "-imPZ5WbCghK",
        "outputId": "a95ddabb-392f-403c-a5ea-048bf7cc90ca"
      },
      "outputs": [
        {
          "output_type": "stream",
          "name": "stdout",
          "text": [
            "[0.0, 0.02, 0.04, 0.06, 0.08, 0.1, 0.12, 0.14, 0.16, 0.18, 0.2, 0.22, 0.24, 0.26, 0.28, 0.3, 0.32, 0.34, 0.36, 0.38, 0.4, 0.42, 0.44, 0.46, 0.48, 0.5, 0.52, 0.54, 0.56, 0.58, 0.6, 0.62, 0.64, 0.66, 0.68, 0.7000000000000001, 0.72, 0.74, 0.76, 0.78, 0.8, 0.8200000000000001, 0.84, 0.86, 0.88, 0.9, 0.92, 0.9400000000000001, 0.96, 0.98, 1.0, 1.02, 1.04, 1.06, 1.08, 1.1, 1.12, 1.1400000000000001, 1.16, 1.18, 1.2, 1.22, 1.24, 1.26, 1.28, 1.3, 1.32, 1.34, 1.36, 1.3800000000000001, 1.4000000000000001, 1.42, 1.44, 1.46, 1.48, 1.5, 1.52, 1.54, 1.56, 1.58, 1.6, 1.62, 1.6400000000000001, 1.6600000000000001, 1.68, 1.7, 1.72, 1.74, 1.76, 1.78, 1.8, 1.82, 1.84, 1.86, 1.8800000000000001, 1.9000000000000001]\n"
          ]
        },
        {
          "output_type": "execute_result",
          "data": {
            "text/plain": [
              "Text(0.5, 1.0, 'Reward vs. Altura (Tanque)')"
            ]
          },
          "metadata": {},
          "execution_count": 1
        },
        {
          "output_type": "display_data",
          "data": {
            "text/plain": [
              "<Figure size 1200x400 with 1 Axes>"
            ],
            "image/png": "[encoded data removed]"
          },
          "metadata": {}
        }
      ],
      "source": [
        "import pandas as pd\n",
        "import matplotlib.pyplot as plt\n",
        "\n",
        "# Definición de las recompensas\n",
        "def reward(h):\n",
        "        if ((h >= 0.85) and (h <= 1.05)):\n",
        "            return 1.0\n",
        "        if ((h > 0.38) and (h < 0.85)):\n",
        "            return 2.128*h - 0.80864\n",
        "        if ((h > 1.05) and (h < 1.52)):\n",
        "            return -2.128*h + 3.23456\n",
        "        if ((h >= 0) and (h <= 0.38)):\n",
        "            return 0\n",
        "        if ((h >=1.52) and (h <= 1.9)):\n",
        "            return 0\n",
        "\n",
        "h = [(x * 0.02) for x in range(96)]\n",
        "print(h)\n",
        "R = [reward(x) for x in h]\n",
        "fig=plt.figure(figsize=(12, 4))\n",
        "\n",
        "plt.scatter(h, R)\n",
        "plt.xlabel('Altura (Tanque)')\n",
        "plt.ylabel('Reward')\n",
        "plt.title('Reward vs. Altura (Tanque)')\n"
      ]
    },
    {
      "cell_type": "code",
      "source": [
        "def Ambiente(Qo_k, Qi_k, tau, Qteta, h_k):\n",
        "  Qo_k_1 = Qo(Qo_k, Qi_k, tau, Qteta)\n",
        "  Qe_k = Qo_k_1\n",
        "  Qs_k = Qi_k\n",
        "  h_k_1 = htanque(h_k, Qe_k, Qs_k)\n",
        "  Ri_1=reward(h_k_1)\n",
        "  return h_k_1,Ri_1\n"
      ],
      "metadata": {
        "id": "q0cMR0dDQuMw"
      },
      "execution_count": null,
      "outputs": []
    },
    {
      "cell_type": "code",
      "execution_count": null,
      "metadata": {
        "id": "lo6DYRqKbaGs"
      },
      "outputs": [],
      "source": [
        "# Configuración de los parámetros gamma y alfa para el Q-Learning\n",
        "gamma = 0.75\n",
        "alpha = 0.9\n",
        "# Inicialización de los valores Q\n",
        "Q = np.array(np.zeros([96,62]))\n"
      ]
    },
    {
      "cell_type": "code",
      "source": [
        "# Implementación del proceso de Q-Learning\n",
        "for i in range(10000):\n",
        "    tau = np.random.randint(0,100)\n",
        "    teta = np.random.randint(0,100)\n",
        "    for i in range(10000):\n",
        "      indice_h_k = np.random.randint(0,96)\n",
        "      indice_Qi_k = np.random.randint(0,101)\n",
        "      indice_Qo_k = np.random.randint(0,101)\n",
        "      Qi_k = acciones[indice_Qi_k]\n",
        "      Qo_k = acciones[indice_Qo_k]\n",
        "      for i in range(1000):\n",
        "        if ((i >= 0) and (i <= teta)):\n",
        "          Qteta = Qi_k\n",
        "        else:\n",
        "          Qteta = 0\n",
        "        h_k_1,Ri_1 = Ambiente(Qo_k, Qi_k, tau, Qteta, estados[indice_h_k])\n",
        "        indice_h_k_1 =  estados.index(round(h_k_1,1))\n",
        "        TD = Ri_1 + gamma*Q[indice_h_k_1, np.argmax(Q[indice_h_k_1,])]- Q[indice_h_k, Qi_k]\n",
        "        Q[indice_h_k, indice_Qi_k] = Q[indice_h_k, indice_Qi_k] + alpha*TD"
      ],
      "metadata": {
        "id": "QwstbHlERqSZ"
      },
      "execution_count": null,
      "outputs": []
    },
    {
      "cell_type": "markdown",
      "metadata": {
        "id": "WkKu3BQJffaJ"
      },
      "source": [
        "Podemos echarle un vistazo ejecutando todo el código que hemos implementado hasta ahora e ingresando las siguientes dos instrucciones en la consola:"
      ]
    },
    {
      "cell_type": "code",
      "execution_count": null,
      "metadata": {
        "colab": {
          "base_uri": "https://localhost:8080/"
        },
        "id": "oJ_78wLCfhTn",
        "outputId": "f760415d-3c5d-4b1a-8c84-532eb8ca2015"
      },
      "outputs": [
        {
          "output_type": "stream",
          "name": "stdout",
          "text": [
            "Q-Values:\n",
            "[[0. 0. 0. ... 0. 0. 0.]\n",
            " [0. 0. 0. ... 0. 0. 0.]\n",
            " [0. 0. 0. ... 0. 0. 0.]\n",
            " ...\n",
            " [0. 0. 0. ... 0. 0. 0.]\n",
            " [0. 0. 0. ... 0. 0. 0.]\n",
            " [0. 0. 0. ... 0. 0. 0.]]\n"
          ]
        }
      ],
      "source": [
        "print(\"Q-Values:\")\n",
        "print(Q)"
      ]
    },
    {
      "cell_type": "code",
      "source": [],
      "metadata": {
        "id": "jsZWrFf2Kxs_"
      },
      "execution_count": null,
      "outputs": []
    },
    {
      "cell_type": "code",
      "source": [
        "temp=30"
      ],
      "metadata": {
        "id": "uO8z3ZQbupdC"
      },
      "execution_count": null,
      "outputs": []
    },
    {
      "cell_type": "code",
      "source": [
        "def dinamica():\n",
        "  global temp\n",
        "  print(temp)\n",
        "  estado_act =  estados.index(round(temp,1))\n",
        "  print(estado_act)\n",
        "  print(Q[estado_act,])\n",
        "  acc_sig = np.argmax(Q[estado_act,])\n",
        "  temp = respond(acciones[acc_sig], temp, tau)\n",
        "  print(acc_sig)\n",
        "  print(acciones[acc_sig])\n",
        "\n"
      ],
      "metadata": {
        "id": "WAxso3R-sGWK"
      },
      "execution_count": null,
      "outputs": []
    },
    {
      "cell_type": "code",
      "source": [
        "dinamica()"
      ],
      "metadata": {
        "colab": {
          "base_uri": "https://localhost:8080/",
          "height": 280
        },
        "id": "G28wRblGvJqR",
        "outputId": "71f17967-a979-40dd-8db0-6990cf9c6d22"
      },
      "execution_count": null,
      "outputs": [
        {
          "output_type": "stream",
          "name": "stdout",
          "text": [
            "16.26077922626466\n"
          ]
        },
        {
          "output_type": "error",
          "ename": "ValueError",
          "evalue": "16.3 is not in list",
          "traceback": [
            "\u001b[0;31m---------------------------------------------------------------------------\u001b[0m",
            "\u001b[0;31mValueError\u001b[0m                                Traceback (most recent call last)",
            "\u001b[0;32m<ipython-input-14-8a52d40463bf>\u001b[0m in \u001b[0;36m<cell line: 1>\u001b[0;34m()\u001b[0m\n\u001b[0;32m----> 1\u001b[0;31m \u001b[0mdinamica\u001b[0m\u001b[0;34m(\u001b[0m\u001b[0;34m)\u001b[0m\u001b[0;34m\u001b[0m\u001b[0;34m\u001b[0m\u001b[0m\n\u001b[0m",
            "\u001b[0;32m<ipython-input-11-009040afa625>\u001b[0m in \u001b[0;36mdinamica\u001b[0;34m()\u001b[0m\n\u001b[1;32m      2\u001b[0m   \u001b[0;32mglobal\u001b[0m \u001b[0mtemp\u001b[0m\u001b[0;34m\u001b[0m\u001b[0;34m\u001b[0m\u001b[0m\n\u001b[1;32m      3\u001b[0m   \u001b[0mprint\u001b[0m\u001b[0;34m(\u001b[0m\u001b[0mtemp\u001b[0m\u001b[0;34m)\u001b[0m\u001b[0;34m\u001b[0m\u001b[0;34m\u001b[0m\u001b[0m\n\u001b[0;32m----> 4\u001b[0;31m   \u001b[0mestado_act\u001b[0m \u001b[0;34m=\u001b[0m  \u001b[0mestados\u001b[0m\u001b[0;34m.\u001b[0m\u001b[0mindex\u001b[0m\u001b[0;34m(\u001b[0m\u001b[0mround\u001b[0m\u001b[0;34m(\u001b[0m\u001b[0mtemp\u001b[0m\u001b[0;34m,\u001b[0m\u001b[0;36m1\u001b[0m\u001b[0;34m)\u001b[0m\u001b[0;34m)\u001b[0m\u001b[0;34m\u001b[0m\u001b[0;34m\u001b[0m\u001b[0m\n\u001b[0m\u001b[1;32m      5\u001b[0m   \u001b[0mprint\u001b[0m\u001b[0;34m(\u001b[0m\u001b[0mestado_act\u001b[0m\u001b[0;34m)\u001b[0m\u001b[0;34m\u001b[0m\u001b[0;34m\u001b[0m\u001b[0m\n\u001b[1;32m      6\u001b[0m   \u001b[0mprint\u001b[0m\u001b[0;34m(\u001b[0m\u001b[0mQ\u001b[0m\u001b[0;34m[\u001b[0m\u001b[0mestado_act\u001b[0m\u001b[0;34m,\u001b[0m\u001b[0;34m]\u001b[0m\u001b[0;34m)\u001b[0m\u001b[0;34m\u001b[0m\u001b[0;34m\u001b[0m\u001b[0m\n",
            "\u001b[0;31mValueError\u001b[0m: 16.3 is not in list"
          ]
        }
      ]
    },
    {
      "cell_type": "markdown",
      "source": [],
      "metadata": {
        "id": "xiX3EsPmvES4"
      }
    },
    {
      "cell_type": "code",
      "execution_count": null,
      "metadata": {
        "id": "ooG5lGl7lOjc"
      },
      "outputs": [],
      "source": [
        "# Hacer la función final que devolverá la ruta óptima\n",
        "def ruta(inicio, fin):\n",
        "    ruta = [inicio]\n",
        "    siguiente = inicio\n",
        "    while (siguiente != fin):\n",
        "        estado_inicial = def_de_estados[inicio]\n",
        "        siguiente = np.argmax(Q[estado_inicial,])\n",
        "        siguiente = mapeo_de_estados[siguiente]\n",
        "        ruta.append(siguiente)\n",
        "        inicio = siguiente\n",
        "    return ruta"
      ]
    },
    {
      "cell_type": "markdown",
      "metadata": {
        "id": "GkoPA0CIlUp5"
      },
      "source": [
        "Probar la ruta para ir de E a G."
      ]
    },
    {
      "cell_type": "markdown",
      "metadata": {
        "id": "vnKO6uQyljHo"
      },
      "source": [
        "**Tarea 2**\n",
        "\n",
        "1. Comente el programa completo y de una descripción del problema resuelto con el método de Q-Learning.\n",
        "2. Para tener un algoritmo funcional, cómo debería configurar la matriz de recompensas para ir por una ruta óptima por ejemplo desde E a G.\n",
        "3. Pruebe con diferentes valores de gamma y alpha y comente los resultados obtenidos.\n",
        "4. Como obtener una ruta que obligue a pasar por una ruta intermedia ?.\n",
        "5. Comente claramente la función ruta(inicio, fin).\n",
        "6. Comente como funciona np.argmax(Q[estado_inicial,]), que esta devolviendo en cada ejecución.\n",
        "7. Construir igualmente un archivo .ipynb con la versión desarrollada por cada uno de Uds., asignarle valores a la matriz de recompensas de acuerdo a rutas que Uds., establecieron y comentar los resultados.\n",
        "8. El reporte final se debe subir al classroom de la materia"
      ]
    },
    {
      "cell_type": "markdown",
      "metadata": {
        "id": "BNN3EopRypxt"
      },
      "source": [
        "**Tarea 3**\n",
        "\n",
        "Explicar el código de la mejora 1 (código anterior). Ejecutar diferentes opciones de ruta y concluir sobre la respuesta generado por el algoritmo. Para los códigos que han venido implementando (16 estados) y con un ambiente 4x5, implementar esta mejora. Crear un reporte y subirlo al classroom de la clase."
      ]
    },
    {
      "cell_type": "markdown",
      "metadata": {
        "id": "7tfBmatcyz_u"
      },
      "source": [
        "**Tarea 4**\n",
        "\n",
        "Como en la tarea anterior, explicar el codigo de la función mejor_ruta(). Adecuar la matriz de recompensas de acuerdo a la idea de evitar pasar por algunos sitios y también optimizando o privilegiando el paso por otros sitios, para ésto que modfificaciones hay que realizar, explicar claramente porque ?. Finalizar los dos códigos que han venido realizando y crear un reporte completo de este ejercicio y subirlos al classroom de la clase."
      ]
    }
  ],
  "metadata": {
    "colab": {
      "provenance": [],
      "include_colab_link": true
    },
    "kernelspec": {
      "display_name": "Python 3",
      "name": "python3"
    },
    "language_info": {
      "name": "python"
    }
  },
  "nbformat": 4,
  "nbformat_minor": 0
}